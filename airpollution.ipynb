{
 "cells": [
  {
   "cell_type": "code",
   "execution_count": 1,
   "id": "c9372dea",
   "metadata": {},
   "outputs": [],
   "source": [
    "import pandas as pd \n",
    "import numpy as np \n",
    "import  os"
   ]
  },
  {
   "cell_type": "code",
   "execution_count": 3,
   "id": "c6b3cacb",
   "metadata": {},
   "outputs": [],
   "source": [
    "data = pd.read_csv('train.csv')"
   ]
  },
  {
   "cell_type": "code",
   "execution_count": 4,
   "id": "7d7892ff",
   "metadata": {},
   "outputs": [
    {
     "data": {
      "text/html": [
       "<div>\n",
       "<style scoped>\n",
       "    .dataframe tbody tr th:only-of-type {\n",
       "        vertical-align: middle;\n",
       "    }\n",
       "\n",
       "    .dataframe tbody tr th {\n",
       "        vertical-align: top;\n",
       "    }\n",
       "\n",
       "    .dataframe thead th {\n",
       "        text-align: right;\n",
       "    }\n",
       "</style>\n",
       "<table border=\"1\" class=\"dataframe\">\n",
       "  <thead>\n",
       "    <tr style=\"text-align: right;\">\n",
       "      <th></th>\n",
       "      <th>feature_1</th>\n",
       "      <th>feature_2</th>\n",
       "      <th>feature_3</th>\n",
       "      <th>feature_4</th>\n",
       "      <th>feature_5</th>\n",
       "      <th>target</th>\n",
       "    </tr>\n",
       "  </thead>\n",
       "  <tbody>\n",
       "    <tr>\n",
       "      <th>0</th>\n",
       "      <td>0.293416</td>\n",
       "      <td>-0.945599</td>\n",
       "      <td>-0.421105</td>\n",
       "      <td>0.406816</td>\n",
       "      <td>0.525662</td>\n",
       "      <td>-82.154667</td>\n",
       "    </tr>\n",
       "    <tr>\n",
       "      <th>1</th>\n",
       "      <td>-0.836084</td>\n",
       "      <td>-0.189228</td>\n",
       "      <td>-0.776403</td>\n",
       "      <td>-1.053831</td>\n",
       "      <td>0.597997</td>\n",
       "      <td>-48.897960</td>\n",
       "    </tr>\n",
       "    <tr>\n",
       "      <th>2</th>\n",
       "      <td>0.236425</td>\n",
       "      <td>0.132836</td>\n",
       "      <td>-0.147723</td>\n",
       "      <td>0.699854</td>\n",
       "      <td>-0.187364</td>\n",
       "      <td>77.270371</td>\n",
       "    </tr>\n",
       "    <tr>\n",
       "      <th>3</th>\n",
       "      <td>0.175312</td>\n",
       "      <td>0.143194</td>\n",
       "      <td>-0.581111</td>\n",
       "      <td>-0.122107</td>\n",
       "      <td>-1.292168</td>\n",
       "      <td>-2.988581</td>\n",
       "    </tr>\n",
       "    <tr>\n",
       "      <th>4</th>\n",
       "      <td>-1.693011</td>\n",
       "      <td>0.542712</td>\n",
       "      <td>-2.798729</td>\n",
       "      <td>-0.686723</td>\n",
       "      <td>1.244077</td>\n",
       "      <td>-37.596722</td>\n",
       "    </tr>\n",
       "    <tr>\n",
       "      <th>...</th>\n",
       "      <td>...</td>\n",
       "      <td>...</td>\n",
       "      <td>...</td>\n",
       "      <td>...</td>\n",
       "      <td>...</td>\n",
       "      <td>...</td>\n",
       "    </tr>\n",
       "    <tr>\n",
       "      <th>1595</th>\n",
       "      <td>-0.274961</td>\n",
       "      <td>-0.820634</td>\n",
       "      <td>-0.757173</td>\n",
       "      <td>-0.147555</td>\n",
       "      <td>-0.307149</td>\n",
       "      <td>-80.110012</td>\n",
       "    </tr>\n",
       "    <tr>\n",
       "      <th>1596</th>\n",
       "      <td>-0.076099</td>\n",
       "      <td>0.255257</td>\n",
       "      <td>0.290054</td>\n",
       "      <td>1.796036</td>\n",
       "      <td>0.340350</td>\n",
       "      <td>118.315601</td>\n",
       "    </tr>\n",
       "    <tr>\n",
       "      <th>1597</th>\n",
       "      <td>1.044177</td>\n",
       "      <td>-0.899206</td>\n",
       "      <td>1.730399</td>\n",
       "      <td>-1.871057</td>\n",
       "      <td>0.442520</td>\n",
       "      <td>-107.510508</td>\n",
       "    </tr>\n",
       "    <tr>\n",
       "      <th>1598</th>\n",
       "      <td>-1.269173</td>\n",
       "      <td>-0.005052</td>\n",
       "      <td>1.857669</td>\n",
       "      <td>-1.080365</td>\n",
       "      <td>0.736334</td>\n",
       "      <td>-47.341558</td>\n",
       "    </tr>\n",
       "    <tr>\n",
       "      <th>1599</th>\n",
       "      <td>-1.884000</td>\n",
       "      <td>-0.849427</td>\n",
       "      <td>-1.452270</td>\n",
       "      <td>0.488613</td>\n",
       "      <td>1.459576</td>\n",
       "      <td>-115.939003</td>\n",
       "    </tr>\n",
       "  </tbody>\n",
       "</table>\n",
       "<p>1600 rows × 6 columns</p>\n",
       "</div>"
      ],
      "text/plain": [
       "      feature_1  feature_2  feature_3  feature_4  feature_5      target\n",
       "0      0.293416  -0.945599  -0.421105   0.406816   0.525662  -82.154667\n",
       "1     -0.836084  -0.189228  -0.776403  -1.053831   0.597997  -48.897960\n",
       "2      0.236425   0.132836  -0.147723   0.699854  -0.187364   77.270371\n",
       "3      0.175312   0.143194  -0.581111  -0.122107  -1.292168   -2.988581\n",
       "4     -1.693011   0.542712  -2.798729  -0.686723   1.244077  -37.596722\n",
       "...         ...        ...        ...        ...        ...         ...\n",
       "1595  -0.274961  -0.820634  -0.757173  -0.147555  -0.307149  -80.110012\n",
       "1596  -0.076099   0.255257   0.290054   1.796036   0.340350  118.315601\n",
       "1597   1.044177  -0.899206   1.730399  -1.871057   0.442520 -107.510508\n",
       "1598  -1.269173  -0.005052   1.857669  -1.080365   0.736334  -47.341558\n",
       "1599  -1.884000  -0.849427  -1.452270   0.488613   1.459576 -115.939003\n",
       "\n",
       "[1600 rows x 6 columns]"
      ]
     },
     "execution_count": 4,
     "metadata": {},
     "output_type": "execute_result"
    }
   ],
   "source": [
    "data"
   ]
  },
  {
   "cell_type": "code",
   "execution_count": 5,
   "id": "e9841c94",
   "metadata": {},
   "outputs": [
    {
     "data": {
      "text/plain": [
       "feature_1    0\n",
       "feature_2    0\n",
       "feature_3    0\n",
       "feature_4    0\n",
       "feature_5    0\n",
       "target       0\n",
       "dtype: int64"
      ]
     },
     "execution_count": 5,
     "metadata": {},
     "output_type": "execute_result"
    }
   ],
   "source": [
    "data.isnull().sum()"
   ]
  },
  {
   "cell_type": "code",
   "execution_count": 6,
   "id": "d9357cc3",
   "metadata": {},
   "outputs": [
    {
     "name": "stdout",
     "output_type": "stream",
     "text": [
      "<class 'pandas.core.frame.DataFrame'>\n",
      "RangeIndex: 1600 entries, 0 to 1599\n",
      "Data columns (total 6 columns):\n",
      " #   Column     Non-Null Count  Dtype  \n",
      "---  ------     --------------  -----  \n",
      " 0   feature_1  1600 non-null   float64\n",
      " 1   feature_2  1600 non-null   float64\n",
      " 2   feature_3  1600 non-null   float64\n",
      " 3   feature_4  1600 non-null   float64\n",
      " 4   feature_5  1600 non-null   float64\n",
      " 5   target     1600 non-null   float64\n",
      "dtypes: float64(6)\n",
      "memory usage: 75.1 KB\n"
     ]
    }
   ],
   "source": [
    "data.info()"
   ]
  },
  {
   "cell_type": "markdown",
   "id": "e73dea9c",
   "metadata": {},
   "source": [
    "This is trail in VS code "
   ]
  },
  {
   "cell_type": "code",
   "execution_count": 8,
   "id": "6911028c",
   "metadata": {},
   "outputs": [],
   "source": [
    "def cost(theta,x,y):\n",
    "    m = len(y)\n",
    "    n = len(theta)\n",
    "    y = y.reshape(m,1)\n",
    "    theta = theta.reshape(n,1)\n",
    "    J = np.sum( (x.dot(theta)-y)**2 )/(2*m)\n",
    "    return J"
   ]
  },
  {
   "cell_type": "code",
   "execution_count": 9,
   "id": "0169074b",
   "metadata": {},
   "outputs": [],
   "source": [
    "def grad(theta,x,y):\n",
    "    m = len(y)\n",
    "    n = len(theta)\n",
    "    y = y.reshape(m,1)\n",
    "    theta = theta.reshape(n,1)\n",
    "    grad = x.T.dot( x.dot(theta) - y )/(m)\n",
    "    return grad\n",
    "    "
   ]
  },
  {
   "cell_type": "code",
   "execution_count": 12,
   "id": "941e9336",
   "metadata": {},
   "outputs": [
    {
     "data": {
      "text/plain": [
       "<AxesSubplot:xlabel='feature_1', ylabel='Count'>"
      ]
     },
     "execution_count": 12,
     "metadata": {},
     "output_type": "execute_result"
    },
    {
     "data": {
      "image/png": "[encoded data removed]",
      "text/plain": [
       "<Figure size 432x288 with 1 Axes>"
      ]
     },
     "metadata": {
      "needs_background": "light"
     },
     "output_type": "display_data"
    }
   ],
   "source": [
    "import seaborn as sns\n",
    "sns.histplot(data['feature_1'])"
   ]
  },
  {
   "cell_type": "code",
   "execution_count": 13,
   "id": "6c5d6f84",
   "metadata": {},
   "outputs": [
    {
     "data": {
      "text/plain": [
       "<AxesSubplot:xlabel='feature_2', ylabel='Count'>"
      ]
     },
     "execution_count": 13,
     "metadata": {},
     "output_type": "execute_result"
    },
    {
     "data": {
      "image/png": "[encoded data removed]",
      "text/plain": [
       "<Figure size 432x288 with 1 Axes>"
      ]
     },
     "metadata": {
      "needs_background": "light"
     },
     "output_type": "display_data"
    }
   ],
   "source": [
    "sns.histplot(data['feature_2'])"
   ]
  },
  {
   "cell_type": "code",
   "execution_count": 14,
   "id": "5c526975",
   "metadata": {},
   "outputs": [
    {
     "data": {
      "text/plain": [
       "<AxesSubplot:xlabel='feature_3', ylabel='Count'>"
      ]
     },
     "execution_count": 14,
     "metadata": {},
     "output_type": "execute_result"
    },
    {
     "data": {
      "image/png": "[encoded data removed]",
      "text/plain": [
       "<Figure size 432x288 with 1 Axes>"
      ]
     },
     "metadata": {
      "needs_background": "light"
     },
     "output_type": "display_data"
    }
   ],
   "source": [
    "sns.histplot(data['feature_3'])"
   ]
  },
  {
   "cell_type": "code",
   "execution_count": 15,
   "id": "70f0bc92",
   "metadata": {},
   "outputs": [
    {
     "data": {
      "text/plain": [
       "<AxesSubplot:xlabel='feature_4', ylabel='Count'>"
      ]
     },
     "execution_count": 15,
     "metadata": {},
     "output_type": "execute_result"
    },
    {
     "data": {
      "image/png": "[encoded data removed]",
      "text/plain": [
       "<Figure size 432x288 with 1 Axes>"
      ]
     },
     "metadata": {
      "needs_background": "light"
     },
     "output_type": "display_data"
    }
   ],
   "source": [
    "sns.histplot(data['feature_4'])"
   ]
  },
  {
   "cell_type": "code",
   "execution_count": 16,
   "id": "bba319cb",
   "metadata": {},
   "outputs": [
    {
     "data": {
      "text/plain": [
       "<AxesSubplot:xlabel='feature_5', ylabel='Count'>"
      ]
     },
     "execution_count": 16,
     "metadata": {},
     "output_type": "execute_result"
    },
    {
     "data": {
      "image/png": "[encoded data removed]",
      "text/plain": [
       "<Figure size 432x288 with 1 Axes>"
      ]
     },
     "metadata": {
      "needs_background": "light"
     },
     "output_type": "display_data"
    }
   ],
   "source": [
    "sns.histplot(data['feature_5'])"
   ]
  },
  {
   "cell_type": "code",
   "execution_count": 17,
   "id": "c0272161",
   "metadata": {},
   "outputs": [
    {
     "data": {
      "text/plain": [
       "<AxesSubplot:xlabel='target', ylabel='Count'>"
      ]
     },
     "execution_count": 17,
     "metadata": {},
     "output_type": "execute_result"
    },
    {
     "data": {
      "image/png": "[encoded data removed]",
      "text/plain": [
       "<Figure size 432x288 with 1 Axes>"
      ]
     },
     "metadata": {
      "needs_background": "light"
     },
     "output_type": "display_data"
    }
   ],
   "source": [
    "sns.histplot(data['target'])"
   ]
  },
  {
   "cell_type": "code",
   "execution_count": 19,
   "id": "e34c45ed",
   "metadata": {},
   "outputs": [],
   "source": [
    "y = data['target'].to_numpy()\n",
    "data.drop('target',axis = 1, inplace =  True)\n",
    "x = data.to_numpy()"
   ]
  },
  {
   "cell_type": "code",
   "execution_count": 35,
   "id": "89d781fa",
   "metadata": {},
   "outputs": [],
   "source": [
    "mu = np.mean(y)\n",
    "sd = np.std(y)\n",
    "\n",
    "y = (y-mu)/sd"
   ]
  },
  {
   "cell_type": "code",
   "execution_count": 23,
   "id": "33ff1be9",
   "metadata": {},
   "outputs": [],
   "source": [
    "x = np.concatenate([ np.ones((x.shape[0],1)), x ],axis = 1)"
   ]
  },
  {
   "cell_type": "code",
   "execution_count": 24,
   "id": "8ef457d3",
   "metadata": {},
   "outputs": [],
   "source": [
    "import scipy.optimize as op"
   ]
  },
  {
   "cell_type": "code",
   "execution_count": 25,
   "id": "17ea3e2b",
   "metadata": {},
   "outputs": [],
   "source": [
    "theta = np.random.rand(x.shape[1],1)"
   ]
  },
  {
   "cell_type": "code",
   "execution_count": 36,
   "id": "ad6711db",
   "metadata": {},
   "outputs": [],
   "source": [
    "result = op.fmin_tnc(cost,x0 = theta ,args=(x,y),fprime=grad)\n",
    "finaltheta = result[0].reshape((-1,1))"
   ]
  },
  {
   "cell_type": "code",
   "execution_count": 37,
   "id": "56ce4bb7",
   "metadata": {},
   "outputs": [
    {
     "data": {
      "text/plain": [
       "array([[0.04220002],\n",
       "       [0.26811047],\n",
       "       [0.83700527],\n",
       "       [0.07479746],\n",
       "       [0.40438213],\n",
       "       [0.02275526]])"
      ]
     },
     "execution_count": 37,
     "metadata": {},
     "output_type": "execute_result"
    }
   ],
   "source": [
    "finaltheta"
   ]
  },
  {
   "cell_type": "code",
   "execution_count": 38,
   "id": "146d6d80",
   "metadata": {},
   "outputs": [],
   "source": [
    "from sklearn.metrics import mean_squared_error as MSE\n",
    "from sklearn.metrics import r2_score"
   ]
  },
  {
   "cell_type": "code",
   "execution_count": 43,
   "id": "98aa5e16",
   "metadata": {},
   "outputs": [],
   "source": [
    "yp = x.dot(finaltheta)"
   ]
  },
  {
   "cell_type": "code",
   "execution_count": 44,
   "id": "95ca0c7b",
   "metadata": {},
   "outputs": [
    {
     "data": {
      "text/plain": [
       "array([-0.74497131, -0.44456826,  0.69509218, ..., -0.97400699,\n",
       "       -0.4305095 , -1.05014038])"
      ]
     },
     "execution_count": 44,
     "metadata": {},
     "output_type": "execute_result"
    }
   ],
   "source": [
    "y"
   ]
  },
  {
   "cell_type": "code",
   "execution_count": 45,
   "id": "e2ffc102",
   "metadata": {},
   "outputs": [
    {
     "data": {
      "text/plain": [
       "0.0339060330179778"
      ]
     },
     "execution_count": 45,
     "metadata": {},
     "output_type": "execute_result"
    }
   ],
   "source": [
    "MSE(yp,y)"
   ]
  },
  {
   "cell_type": "code",
   "execution_count": 46,
   "id": "2fc04ab5",
   "metadata": {},
   "outputs": [
    {
     "data": {
      "text/plain": [
       "0.9649039154016974"
      ]
     },
     "execution_count": 46,
     "metadata": {},
     "output_type": "execute_result"
    }
   ],
   "source": [
    "r2_score(yp,y)"
   ]
  },
  {
   "cell_type": "code",
   "execution_count": null,
   "id": "7be74ac9",
   "metadata": {},
   "outputs": [],
   "source": []
  }
 ],
 "metadata": {
  "kernelspec": {
   "display_name": "Python 3 (ipykernel)",
   "language": "python",
   "name": "python3"
  },
  "language_info": {
   "codemirror_mode": {
    "name": "ipython",
    "version": 3
   },
   "file_extension": ".py",
   "mimetype": "text/x-python",
   "name": "python",
   "nbconvert_exporter": "python",
   "pygments_lexer": "ipython3",
   "version": "3.9.9"
  }
 },
 "nbformat": 4,
 "nbformat_minor": 5
}
